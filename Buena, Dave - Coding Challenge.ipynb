{
 "cells": [
  {
   "cell_type": "code",
   "execution_count": 91,
   "id": "edad7b78-8eac-4ee4-8891-4aa9f23394f1",
   "metadata": {},
   "outputs": [],
   "source": [
    "from bs4 import BeautifulSoup\n",
    "import requests\n",
    "from selenium import webdriver\n",
    "from selenium.webdriver.common.by import By\n",
    "from selenium.webdriver.support.ui import Select"
   ]
  },
  {
   "cell_type": "code",
   "execution_count": 92,
   "id": "06d1bd26-0ae9-4e5a-a450-697bbed8166e",
   "metadata": {
    "tags": []
   },
   "outputs": [
    {
     "name": "stdin",
     "output_type": "stream",
     "text": [
      "Enter License Type: Pharmacist\n",
      "Enter Last Name: L\n"
     ]
    }
   ],
   "source": [
    "# To take license type and last name input values\n",
    "license_type = input(\"Enter License Type:\")\n",
    "lastname = input(\"Enter Last Name:\")"
   ]
  },
  {
   "cell_type": "code",
   "execution_count": 93,
   "id": "0b5abfca-3719-4bcb-8f36-fb1f0c918b38",
   "metadata": {},
   "outputs": [],
   "source": [
    "# Setting up the web browser to navigate to the website\n",
    "driver = webdriver.Edge()\n",
    "page_url = \"https://idbop.mylicense.com/verification/Search.aspx\"\n",
    "driver.get(page_url)"
   ]
  },
  {
   "cell_type": "code",
   "execution_count": 94,
   "id": "1a9d19e5-bfed-45f7-a655-f67900aacb78",
   "metadata": {},
   "outputs": [],
   "source": [
    "# \n",
    "select = Select(driver.find_element(By.NAME, 't_web_lookup__license_type_name'))\n",
    "if license_type == \"All\":\n",
    "    all_selected_options = select.all_selected_options\n",
    "else:\n",
    "    select.select_by_value(license_type)"
   ]
  },
  {
   "cell_type": "code",
   "execution_count": 95,
   "id": "d08bd74e-0791-43c7-beff-929df20e9cc7",
   "metadata": {},
   "outputs": [],
   "source": [
    "# To search for the last name textbox element and input our query\n",
    "lastname_search = driver.find_element(By.NAME, 't_web_lookup__last_name')\n",
    "lastname_search.send_keys(lastname)\n",
    "search = driver.find_element(By.ID, 'sch_button')\n",
    "search.click()"
   ]
  },
  {
   "cell_type": "code",
   "execution_count": 102,
   "id": "33358831-ea7e-4336-8353-c5009aef25d2",
   "metadata": {},
   "outputs": [
    {
     "name": "stdout",
     "output_type": "stream",
     "text": [
      "<Response [500]>\n"
     ]
    }
   ],
   "source": [
    "url = \"https://idbop.mylicense.com/verification/SearchResults.aspx\"\n",
    "response = requests.get(url)\n",
    "print(response)"
   ]
  },
  {
   "cell_type": "code",
   "execution_count": 103,
   "id": "91169ee8-cd6e-4ce9-b61f-173e1e30fada",
   "metadata": {},
   "outputs": [
    {
     "name": "stdout",
     "output_type": "stream",
     "text": [
      "<!DOCTYPE html>\n",
      "<html>\n",
      "<head>\n",
      "<title>Runtime Error</title>\n",
      "<meta content=\"width=device-width\" name=\"viewport\"/>\n",
      "<style>\n",
      "         body {font-family:\"Verdana\";font-weight:normal;font-size: .7em;color:black;} \n",
      "         p {font-family:\"Verdana\";font-weight:normal;color:black;margin-top: -5px}\n",
      "         b {font-family:\"Verdana\";font-weight:bold;color:black;margin-top: -5px}\n",
      "         H1 { font-family:\"Verdana\";font-weight:normal;font-size:18pt;color:red }\n",
      "         H2 { font-family:\"Verdana\";font-weight:normal;font-size:14pt;color:maroon }\n",
      "         pre {font-family:\"Consolas\",\"Lucida Console\",Monospace;font-size:11pt;margin:0;padding:0.5em;line-height:14pt}\n",
      "         .marker {font-weight: bold; color: black;text-decoration: none;}\n",
      "         .version {color: gray;}\n",
      "         .error {margin-bottom: 10px;}\n",
      "         .expandable { text-decoration:underline; font-weight:bold; color:navy; cursor:pointer; }\n",
      "         @media screen and (max-width: 639px) {\n",
      "          pre { width: 440px; overflow: auto; white-space: pre-wrap; word-wrap: break-word; }\n",
      "         }\n",
      "         @media screen and (max-width: 479px) {\n",
      "          pre { width: 280px; }\n",
      "         }\n",
      "        </style>\n",
      "</head>\n",
      "<body bgcolor=\"white\">\n",
      "<span><h1>Server Error in '/Verification' Application.<hr color=\"silver\" size=\"1\" width=\"100%\"/></h1>\n",
      "<h2> <i>Runtime Error</i> </h2></span>\n",
      "<font face=\"Arial, Helvetica, Geneva, SunSans-Regular, sans-serif \">\n",
      "<b> Description: </b>An application error occurred on the server. The current custom error settings for this application prevent the details of the application error from being viewed remotely (for security reasons). It could, however, be viewed by browsers running on the local server machine.\n",
      "            <br/><br/>\n",
      "<b>Details:</b> To enable the details of this specific error message to be viewable on remote machines, please create a &lt;customErrors&gt; tag within a \"web.config\" configuration file located in the root directory of the current web application. This &lt;customErrors&gt; tag should then have its \"mode\" attribute set to \"Off\".<br/><br/>\n",
      "<table bgcolor=\"#ffffcc\" width=\"100%\">\n",
      "<tr>\n",
      "<td>\n",
      "<code><pre>\n",
      "\n",
      "&lt;!-- Web.Config Configuration File --&gt;\n",
      "\n",
      "&lt;configuration&gt;\n",
      "    &lt;system.web&gt;\n",
      "        &lt;customErrors mode=\"Off\"/&gt;\n",
      "    &lt;/system.web&gt;\n",
      "&lt;/configuration&gt;</pre> </code>\n",
      "</td>\n",
      "</tr>\n",
      "</table>\n",
      "<br/>\n",
      "<b>Notes:</b> The current error page you are seeing can be replaced by a custom error page by modifying the \"defaultRedirect\" attribute of the application's &lt;customErrors&gt; configuration tag to point to a custom error page URL.<br/><br/>\n",
      "<table bgcolor=\"#ffffcc\" width=\"100%\">\n",
      "<tr>\n",
      "<td>\n",
      "<code><pre>\n",
      "\n",
      "&lt;!-- Web.Config Configuration File --&gt;\n",
      "\n",
      "&lt;configuration&gt;\n",
      "    &lt;system.web&gt;\n",
      "        &lt;customErrors mode=\"RemoteOnly\" defaultRedirect=\"mycustompage.htm\"/&gt;\n",
      "    &lt;/system.web&gt;\n",
      "&lt;/configuration&gt;</pre> </code>\n",
      "</td>\n",
      "</tr>\n",
      "</table>\n",
      "<br/>\n",
      "</font>\n",
      "</body>\n",
      "</html>\n",
      "\n"
     ]
    }
   ],
   "source": [
    "print(soup)"
   ]
  },
  {
   "cell_type": "code",
   "execution_count": null,
   "id": "9a986610-7145-4089-9851-85b938dc3639",
   "metadata": {},
   "outputs": [],
   "source": []
  },
  {
   "cell_type": "code",
   "execution_count": null,
   "id": "a2963fa1-f7c6-415b-870d-19ab112ca489",
   "metadata": {},
   "outputs": [],
   "source": []
  }
 ],
 "metadata": {
  "kernelspec": {
   "display_name": "Python 3 (ipykernel)",
   "language": "python",
   "name": "python3"
  },
  "language_info": {
   "codemirror_mode": {
    "name": "ipython",
    "version": 3
   },
   "file_extension": ".py",
   "mimetype": "text/x-python",
   "name": "python",
   "nbconvert_exporter": "python",
   "pygments_lexer": "ipython3",
   "version": "3.9.12"
  }
 },
 "nbformat": 4,
 "nbformat_minor": 5
}
